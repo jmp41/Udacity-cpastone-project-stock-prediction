{
 "cells": [
  {
   "cell_type": "markdown",
   "source": [
    "Capstone project jupyter notebook"
   ],
   "metadata": {
    "collapsed": false,
    "pycharm": {
     "name": "#%% md\n"
    }
   }
  },
  {
   "cell_type": "code",
   "execution_count": 1,
   "metadata": {
    "collapsed": true,
    "pycharm": {
     "name": "#%%\n"
    }
   },
   "outputs": [
    {
     "name": "stderr",
     "output_type": "stream",
     "text": [
      "OMP: Info #276: omp_set_nested routine deprecated, please use omp_set_max_active_levels instead.\n"
     ]
    }
   ],
   "source": [
    "import os\n",
    "\n",
    "import matplotlib.pyplot as plt\n",
    "import qlib\n",
    "import torch\n",
    "import time\n",
    "import numpy as np\n",
    "import pandas as pd\n",
    "from torch import nn\n",
    "from qlib.data.dataset.handler import DataHandlerLP\n",
    "from qlib.data.dataset.processor import ZScoreNorm, Fillna\n",
    "from qlib.utils import init_instance_by_config\n",
    "from torch.utils.data import DataLoader, Dataset\n",
    "from audtorch.metrics.functional import pearsonr\n",
    "import cvxpy as cp\n",
    "from cvxpylayers.torch import CvxpyLayer\n",
    "import cvxpy as cp"
   ]
  },
  {
   "cell_type": "markdown",
   "source": [
    "In this project, we use a Macbook pro with pytroch supported package"
   ],
   "metadata": {
    "collapsed": false,
    "pycharm": {
     "name": "#%% md\n"
    }
   }
  },
  {
   "cell_type": "code",
   "execution_count": 4,
   "outputs": [
    {
     "data": {
      "text/plain": "device(type='mps')"
     },
     "execution_count": 4,
     "metadata": {},
     "output_type": "execute_result"
    }
   ],
   "source": [
    "device = torch.device(\"mps\")\n",
    "device"
   ],
   "metadata": {
    "collapsed": false,
    "pycharm": {
     "name": "#%%\n"
    }
   }
  },
  {
   "cell_type": "markdown",
   "source": [
    "Config the dataset and data preprocessing using qlib"
   ],
   "metadata": {
    "collapsed": false,
    "pycharm": {
     "name": "#%% md\n"
    }
   }
  },
  {
   "cell_type": "code",
   "execution_count": 4,
   "outputs": [],
   "source": [
    "market = \"csi100\"\n",
    "benchmark = \"SH000903\"\n",
    "data_handler_config = {\n",
    "    \"start_time\": \"2008-01-01\",\n",
    "    \"end_time\": \"2020-06-01\",\n",
    "    \"fit_start_time\": \"2008-01-01\",\n",
    "    \"fit_end_time\": \"2014-12-31\",\n",
    "    \"instruments\": market,\n",
    "    \"learn_processors\": [\n",
    "        {\n",
    "            \"class\" : \"DropCol\",\n",
    "            \"kwargs\":{\"col_list\": [\"VWAP0\",\"KUP\",\"KUP2\",\"HIGH0\",\"IMIN5\"]}\n",
    "        },\n",
    "        {\n",
    "            \"class\" : \"DropnaProcessor\",\n",
    "            \"kwargs\":{\"fields_group\": \"feature\"}\n",
    "        },\n",
    "        {\n",
    "            \"class\" : \"DropnaProcessor\",\n",
    "            \"kwargs\":{\"fields_group\": \"label\"}\n",
    "        },\n",
    "        {\n",
    "            \"class\": \"CSZScoreNorm\",\n",
    "            \"kwargs\": {\"fields_group\": \"label\"}\n",
    "        },\n",
    "        {\n",
    "            \"class\": \"CSZScoreNorm\",\n",
    "            \"kwargs\": {\"fields_group\": \"feature\"}\n",
    "        }\n",
    "    ],\n",
    "    \"infer_processors\": [\n",
    "        {\n",
    "            \"class\" : \"DropCol\",\n",
    "            \"kwargs\":{\"col_list\": [\"VWAP0\",\"KUP\",\"KUP2\",\"HIGH0\",\"IMIN5\"]}\n",
    "        },\n",
    "        {\n",
    "            \"class\" : \"DropnaProcessor\",\n",
    "            \"kwargs\":{\"fields_group\": \"feature\"}\n",
    "        },\n",
    "        {\n",
    "            \"class\" : \"DropnaProcessor\",\n",
    "            \"kwargs\":{\"fields_group\": \"label\"}\n",
    "        },\n",
    "        {\n",
    "            \"class\": \"CSZScoreNorm\",\n",
    "            \"kwargs\": {\"fields_group\": \"feature\"}\n",
    "        }\n",
    "    ]\n",
    "}\n",
    "dataset_config = {\n",
    "        \"class\": \"DatasetH\",\n",
    "        \"module_path\": \"qlib.data.dataset\",\n",
    "        \"kwargs\": {\n",
    "            \"handler\": {\n",
    "                \"class\": \"Alpha158\", # Using Alpha158 as features\n",
    "                \"module_path\": \"qlib.contrib.data.handler\",\n",
    "                \"kwargs\": data_handler_config,\n",
    "            },\n",
    "            \"segments\": {\n",
    "                \"train\": (\"2010-01-01\", \"2014-12-31\"),\n",
    "                \"valid\": (\"2015-01-01\", \"2016-12-31\"),\n",
    "                \"test\": (\"2017-01-01\", \"2020-06-01\")\n",
    "            }\n",
    "        }\n",
    "}"
   ],
   "metadata": {
    "collapsed": false,
    "pycharm": {
     "name": "#%%\n"
    }
   }
  },
  {
   "cell_type": "markdown",
   "source": [
    "Initialize qlib data file"
   ],
   "metadata": {
    "collapsed": false,
    "pycharm": {
     "name": "#%% md\n"
    }
   }
  },
  {
   "cell_type": "code",
   "execution_count": 5,
   "outputs": [
    {
     "name": "stderr",
     "output_type": "stream",
     "text": [
      "[20997:MainThread](2022-08-22 15:21:15,349) INFO - qlib.Initialization - [config.py:413] - default_conf: client.\n",
      "[20997:MainThread](2022-08-22 15:21:15,582) INFO - qlib.Initialization - [__init__.py:74] - qlib successfully initialized based on client settings.\n",
      "[20997:MainThread](2022-08-22 15:21:15,584) INFO - qlib.Initialization - [__init__.py:76] - data_path={'__DEFAULT_FREQ': PosixPath('/home/jianming/.qlib/qlib_data/cn_data')}\n",
      "[20997:MainThread](2022-08-22 15:21:24,332) INFO - qlib.timer - [log.py:117] - Time cost: 8.743s | Loading data Done\n",
      "[20997:MainThread](2022-08-22 15:21:24,636) INFO - qlib.timer - [log.py:117] - Time cost: 0.071s | DropCol Done\n",
      "[20997:MainThread](2022-08-22 15:21:24,901) INFO - qlib.timer - [log.py:117] - Time cost: 0.264s | DropnaProcessor Done\n",
      "[20997:MainThread](2022-08-22 15:21:24,999) INFO - qlib.timer - [log.py:117] - Time cost: 0.096s | DropnaProcessor Done\n",
      "[20997:MainThread](2022-08-22 15:21:36,999) INFO - qlib.timer - [log.py:117] - Time cost: 11.997s | CSZScoreNorm Done\n",
      "[20997:MainThread](2022-08-22 15:21:37,135) INFO - qlib.timer - [log.py:117] - Time cost: 0.064s | DropCol Done\n",
      "[20997:MainThread](2022-08-22 15:21:37,367) INFO - qlib.timer - [log.py:117] - Time cost: 0.230s | DropnaProcessor Done\n",
      "[20997:MainThread](2022-08-22 15:21:37,485) INFO - qlib.timer - [log.py:117] - Time cost: 0.117s | DropnaProcessor Done\n",
      "[20997:MainThread](2022-08-22 15:21:43,034) INFO - qlib.timer - [log.py:117] - Time cost: 5.548s | CSZScoreNorm Done\n",
      "[20997:MainThread](2022-08-22 15:21:54,890) INFO - qlib.timer - [log.py:117] - Time cost: 11.853s | CSZScoreNorm Done\n",
      "[20997:MainThread](2022-08-22 15:21:54,893) INFO - qlib.timer - [log.py:117] - Time cost: 30.555s | fit & process data Done\n",
      "[20997:MainThread](2022-08-22 15:21:54,894) INFO - qlib.timer - [log.py:117] - Time cost: 39.307s | Init data Done\n"
     ]
    }
   ],
   "source": [
    "qlib.init()\n",
    "dataset = init_instance_by_config(dataset_config)"
   ],
   "metadata": {
    "collapsed": false,
    "pycharm": {
     "name": "#%%\n"
    }
   }
  },
  {
   "cell_type": "markdown",
   "source": [
    "Design our own pytorch Dataset Class"
   ],
   "metadata": {
    "collapsed": false,
    "pycharm": {
     "name": "#%% md\n"
    }
   }
  },
  {
   "cell_type": "code",
   "execution_count": 32,
   "outputs": [],
   "source": [
    "class myData(Dataset): #Define my own type of pytroch dataset\n",
    "    def __init__(self, df):\n",
    "        self.len = df.shape[0] #返回几行几列（矩阵）\n",
    "        self.x_data = torch.from_numpy(df[\"feature\"].values).to(device)\n",
    "        self.y_data = torch.from_numpy(df[\"label\"].values).to(device)# last column is label\n",
    "        self.index = df.index.values\n",
    "\n",
    "    def __getitem__(self, item): #获取某一行元素\n",
    "        return self.x_data[item], self.y_data[item]\n",
    "\n",
    "    def __len__(self):\n",
    "        return self.len\n",
    "\n",
    "df_train = dataset.prepare(\n",
    "    \"train\", col_set=[\"feature\", \"label\"], data_key=DataHandlerLP.DK_L).fillna(0)\n",
    "df_valid = dataset.prepare(\n",
    "    \"valid\", col_set=[\"feature\", \"label\"], data_key=DataHandlerLP.DK_I).fillna(0)\n",
    "df_test = dataset.prepare(\n",
    "    \"test\", col_set=[\"feature\", \"label\"], data_key=DataHandlerLP.DK_I).fillna(0)\n",
    "\n",
    "df_test[np.isinf(df_test)] = 0\n",
    "\n",
    "batch_size = 128 # batch size = 128\n",
    "train_dataloader = DataLoader(myData(df_train), batch_size=batch_size,drop_last = True)\n",
    "valid_dataloader = DataLoader(myData(df_valid), batch_size=128,drop_last = True)\n",
    "test_dataloader = DataLoader(myData(df_test), batch_size=128,drop_last = True)"
   ],
   "metadata": {
    "collapsed": false,
    "pycharm": {
     "name": "#%%\n"
    }
   }
  },
  {
   "cell_type": "markdown",
   "source": [
    "Data exploration"
   ],
   "metadata": {
    "collapsed": false,
    "pycharm": {
     "name": "#%% md\n"
    }
   }
  },
  {
   "cell_type": "code",
   "execution_count": 7,
   "outputs": [
    {
     "name": "stdout",
     "output_type": "stream",
     "text": [
      "                           KMID      KLEN     KMID2      KLOW     KLOW2  \\\n",
      "datetime   instrument                                                     \n",
      "2010-01-04 SH600000   -0.916175  0.616999 -0.719628 -0.343883 -0.447256   \n",
      "           SH600009    3.236425  2.022583  3.458775 -0.720924 -0.736838   \n",
      "           SH600010    0.158732 -0.998949 -0.643470 -0.720924 -0.736838   \n",
      "           SH600011    0.363964 -0.993337 -0.185469 -0.044151  0.242481   \n",
      "           SH600015    0.503794 -0.094025  0.693795 -0.057317 -0.093970   \n",
      "\n",
      "                           KSFT     KSFT2     OPEN0      LOW0      ROC5  ...  \\\n",
      "datetime   instrument                                                    ...   \n",
      "2010-01-04 SH600000   -0.818279 -0.484935  0.926539  0.360138 -0.573772  ...   \n",
      "           SH600009    1.990506  2.312909 -3.155132 -3.488825 -1.283559  ...   \n",
      "           SH600010    0.175832 -0.712107 -0.173814  0.589764  0.478825  ...   \n",
      "           SH600011    0.561786  0.056152 -0.380292  0.184674 -0.487001  ...   \n",
      "           SH600015   -0.120018 -0.207788 -0.520321  0.193299 -0.551830  ...   \n",
      "\n",
      "                         VSUMN5   VSUMN10   VSUMN20   VSUMN30   VSUMN60  \\\n",
      "datetime   instrument                                                     \n",
      "2010-01-04 SH600000    0.322806 -0.015033  0.741830 -0.219840  0.845145   \n",
      "           SH600009   -2.629817 -1.879298 -2.604795 -1.964920 -2.831342   \n",
      "           SH600010   -0.095596 -0.427195  0.810369  0.470386 -0.196783   \n",
      "           SH600011   -0.507482 -0.325125  0.402868  2.778579 -0.173386   \n",
      "           SH600015    0.026565  0.817954 -0.011093 -0.722758 -0.223809   \n",
      "\n",
      "                         VSUMD5   VSUMD10   VSUMD20   VSUMD30   VSUMD60  \n",
      "datetime   instrument                                                    \n",
      "2010-01-04 SH600000   -0.322806  0.015033 -0.741830  0.219840 -0.845145  \n",
      "           SH600009    2.629817  1.879298  2.604795  1.964920  2.831342  \n",
      "           SH600010    0.095596  0.427195 -0.810369 -0.470387  0.196783  \n",
      "           SH600011    0.507482  0.325125 -0.402868 -2.778579  0.173387  \n",
      "           SH600015   -0.026565 -0.817954  0.011093  0.722758  0.223808  \n",
      "\n",
      "[5 rows x 153 columns]\n",
      "                         LABEL0\n",
      "datetime   instrument          \n",
      "2010-01-04 SH600000   -1.007970\n",
      "           SH600009   -0.885182\n",
      "           SH600010    0.394897\n",
      "           SH600011   -0.142323\n",
      "           SH600015   -2.090131\n"
     ]
    },
    {
     "data": {
      "text/plain": "array([[<AxesSubplot:title={'center':'LABEL0'}>]], dtype=object)"
     },
     "execution_count": 7,
     "metadata": {},
     "output_type": "execute_result"
    },
    {
     "data": {
      "text/plain": "<Figure size 432x288 with 1 Axes>",
      "image/png": "[encoded data removed]"
     },
     "metadata": {
      "needs_background": "light"
     },
     "output_type": "display_data"
    }
   ],
   "source": [
    "# feature\n",
    "print(df_train[\"feature\"].head())\n",
    "# label\n",
    "print(df_train[\"label\"].head())\n",
    "# data distribution\n",
    "df_train[\"label\"].hist()"
   ],
   "metadata": {
    "collapsed": false,
    "pycharm": {
     "name": "#%%\n"
    }
   }
  },
  {
   "cell_type": "code",
   "execution_count": 8,
   "outputs": [
    {
     "data": {
      "text/plain": "<Figure size 432x288 with 1 Axes>",
      "image/png": "[encoded data removed]"
     },
     "metadata": {
      "needs_background": "light"
     },
     "output_type": "display_data"
    }
   ],
   "source": [
    "index_i = df_test[\"label\"].cumsum().values\n",
    "plt.plot(range(len(index_i)),index_i)\n",
    "plt.show()"
   ],
   "metadata": {
    "collapsed": false,
    "pycharm": {
     "name": "#%%\n"
    }
   }
  },
  {
   "cell_type": "markdown",
   "source": [
    "Optimization layer\n",
    "If we do not back prop gradient, then it is just optimization."
   ],
   "metadata": {
    "collapsed": false,
    "pycharm": {
     "name": "#%% md\n"
    }
   }
  },
  {
   "cell_type": "code",
   "execution_count": 9,
   "outputs": [
    {
     "name": "stderr",
     "output_type": "stream",
     "text": [
      "/home/jianming/anaconda3/envs/env_qlib3.7/lib/python3.7/site-packages/cvxpy/reductions/solvers/solving_chain.py:188: UserWarning: Your problem has too many parameters for efficient DPP compilation. We suggest setting 'ignore_dpp = True'.\n",
      "  \"Your problem has too many parameters for efficient DPP \"\n"
     ]
    }
   ],
   "source": [
    "def SPOLayers(n):\n",
    "    wtilde = cp.Variable(n)\n",
    "    f = cp.Variable(n)\n",
    "\n",
    "    alpha = cp.Parameter(n)\n",
    "    S = cp.Parameter((n, n))\n",
    "    gamma = cp.Parameter(1, nonneg=True)\n",
    "\n",
    "    expected_return = alpha @ wtilde\n",
    "    expected_risk = cp.sum_squares(f)\n",
    "\n",
    "    constraints = [cp.sum(wtilde) == 1, wtilde>=0,cp.norm(wtilde, \"inf\") <= .5,f == S @ wtilde]\n",
    "\n",
    "    prob = cp.Problem(\n",
    "            cp.Maximize(expected_return - gamma * expected_risk),\n",
    "            constraints)\n",
    "    return CvxpyLayer(prob, [alpha, S, gamma], [wtilde, f], gp = False)\n",
    "\n",
    "n = 128\n",
    "trading_policy = SPOLayers(n)\n",
    "# w,_ = trading_policy(torch.ones(n), torch.ones((n,n)),torch.ones(1),solver_args={\"solve_method\": \"SCS\" , \"n_jobs_forward\": 1})\n",
    "# w\n",
    "# , \"gpu\":True,\"use_indirect\":True"
   ],
   "metadata": {
    "collapsed": false,
    "pycharm": {
     "name": "#%%\n"
    }
   }
  },
  {
   "cell_type": "markdown",
   "source": [
    "Benchmark Model: Linear model"
   ],
   "metadata": {
    "collapsed": false,
    "pycharm": {
     "name": "#%% md\n"
    }
   }
  },
  {
   "cell_type": "code",
   "execution_count": 10,
   "outputs": [
    {
     "name": "stdout",
     "output_type": "stream",
     "text": [
      "mean_square_error:0.01\n",
      "Coefficient of determination: -9.03\n",
      "Test IC:1.1651157437517263%\n"
     ]
    }
   ],
   "source": [
    "from sklearn.linear_model import LinearRegression\n",
    "from sklearn.metrics import mean_squared_error,r2_score\n",
    "lr=LinearRegression(fit_intercept=True)\n",
    "X, y = df_train[\"feature\"].fillna(0).values, np.squeeze(df_train[\"label\"].fillna(0).values)\n",
    "X_valid, y_valid = df_valid[\"feature\"].fillna(0).values, np.squeeze(df_valid[\"label\"].fillna(0).values)\n",
    "lr.fit(X,y)\n",
    "X_valid[np.isinf(X_valid)] = 0\n",
    "y_predict=lr.predict(X_valid)\n",
    "print(\"mean_square_error:%.2f\"%mean_squared_error(y_valid,y_predict))\n",
    "print('Coefficient of determination: %.2f'\n",
    "      % r2_score(y_valid, y_predict))\n",
    "\n",
    "print(f\"Test IC:{np.corrcoef(y_valid, y_predict)[1,0]*100}%\")"
   ],
   "metadata": {
    "collapsed": false,
    "pycharm": {
     "name": "#%%\n"
    }
   }
  },
  {
   "cell_type": "markdown",
   "source": [
    "The Test IC in valid set of Linear model is 1.16%"
   ],
   "metadata": {
    "collapsed": false,
    "pycharm": {
     "name": "#%% md\n"
    }
   }
  },
  {
   "cell_type": "markdown",
   "source": [
    "MLP model (batch size = 128, learning rate = 0.0001, epoch = 50)"
   ],
   "metadata": {
    "collapsed": false,
    "pycharm": {
     "name": "#%% md\n"
    }
   }
  },
  {
   "cell_type": "code",
   "execution_count": 11,
   "outputs": [],
   "source": [
    "class MLP(nn.Module):\n",
    "    def __init__(self):\n",
    "        super(MLP, self).__init__()\n",
    "        self.linear_relu_stack = nn.Sequential(\n",
    "            nn.Linear(153, 128),\n",
    "            nn.ReLU(),\n",
    "            nn.Linear(128, 128),\n",
    "            nn.ReLU(),\n",
    "            nn.Linear(128, 1),\n",
    "        )\n",
    "\n",
    "    def forward(self, x):\n",
    "        logits = self.linear_relu_stack(x).requires_grad_()\n",
    "        return logits\n",
    "\n",
    "\n",
    "def trainMLP(model, train_loader, valid_dataloader, cost, optimizer, epoch ,seed = 0):\n",
    "    torch.manual_seed(seed)\n",
    "    model.train()\n",
    "    training_log = []\n",
    "    for e in range(epoch):\n",
    "        start = time.time()\n",
    "        running_loss = 0\n",
    "        correct = 0\n",
    "\n",
    "        for data, target in train_loader:\n",
    "            data = data.view(data.shape[0], -1)\n",
    "            optimizer.zero_grad()\n",
    "            pred = model(data)\n",
    "            # 模拟组合优化，梯度不回传，那么loss只能是MSE\n",
    "            loss = cost(pred, target)\n",
    "            running_loss += loss\n",
    "            loss.backward()\n",
    "            optimizer.step()\n",
    "            correct += pearsonr(pred.T, target.T).item()\n",
    "\n",
    "        print('----------------------------')\n",
    "        print(\n",
    "            f\"Train set: Epoch {e}: Loss: {100*running_loss / len(train_loader)}%, RankIC: {100 * (correct / len(train_loader))}%\")\n",
    "        # validation\n",
    "        _,_, IC, CumRet = testMLP(model=model, test_loader=valid_dataloader)\n",
    "        end = time.time()\n",
    "        print(\"Time spent:\", end - start)\n",
    "        training_log.append([100*running_loss / len(train_loader),100 * (correct / len(train_loader)), IC, CumRet])\n",
    "    return training_log\n",
    "\n",
    "def testMLP(model, test_loader):\n",
    "    model.eval()\n",
    "    correct = 0\n",
    "    error_num = 0\n",
    "    cummret = 0\n",
    "    rets = [0.0001]\n",
    "    with torch.no_grad():\n",
    "        for data, target in test_loader:\n",
    "            try:\n",
    "                data = data.view(data.shape[0], -1)\n",
    "                output = model(data)\n",
    "                covs = torch.cov(data)\n",
    "\n",
    "                w_mlp, _ = trading_policy(torch.squeeze(output), covs.to(device), (torch.ones(1) * 0.5).to(device),\n",
    "                                          solver_args={\"solve_method\": \"SCS\", \"n_jobs_forward\": 1})\n",
    "                # print(w_mlp)\n",
    "                cumret = w_mlp.dot(torch.squeeze(target)).item()\n",
    "                rets.append(cumret)\n",
    "                pred = pearsonr(output.T, target.T).item()\n",
    "                correct += pred\n",
    "                cummret += cumret\n",
    "            except:\n",
    "                error_num += 1\n",
    "                pass\n",
    "    IC = 100 * (correct / len(test_loader))\n",
    "    CumRet = 100 * 252 * sum(rets) / len(rets)\n",
    "    print(\n",
    "        f'Test set: IC: {100 * (correct / len(test_loader))}%), CumRet:{100 * 252 * sum(rets) / len(rets)}%, error number:{error_num}')\n",
    "    return rets, w_mlp, IC, CumRet"
   ],
   "metadata": {
    "collapsed": false,
    "pycharm": {
     "name": "#%%\n"
    }
   }
  },
  {
   "cell_type": "code",
   "execution_count": 16,
   "outputs": [
    {
     "name": "stdout",
     "output_type": "stream",
     "text": [
      "----------------------------\n",
      "Train set: Epoch 0: Loss: 99.55650329589844%, RankIC: 0.9501362044345387%\n",
      "Test set: IC: -0.2089442657827103%), CumRet:11.293719538141556%, error number:1\n",
      "Time spent: 16.402048587799072\n",
      "----------------------------\n",
      "Train set: Epoch 1: Loss: 99.2486572265625%, RankIC: 1.0915040975826857%\n",
      "Test set: IC: -0.028158572151670516%), CumRet:9.936576190587203%, error number:1\n",
      "Time spent: 16.336189031600952\n",
      "----------------------------\n",
      "Train set: Epoch 2: Loss: 99.14546966552734%, RankIC: 1.2066491167153774%\n",
      "Test set: IC: 0.08325880357637773%), CumRet:8.802707271600212%, error number:1\n",
      "Time spent: 16.304916858673096\n",
      "----------------------------\n",
      "Train set: Epoch 3: Loss: 99.10249328613281%, RankIC: 1.3130151119022813%\n",
      "Test set: IC: 0.1560473443369061%), CumRet:8.02799577190545%, error number:1\n",
      "Time spent: 16.141544342041016\n",
      "----------------------------\n",
      "Train set: Epoch 4: Loss: 99.07791137695312%, RankIC: 1.4152199606436144%\n",
      "Test set: IC: 0.2079639390603769%), CumRet:8.028603643913305%, error number:1\n",
      "Time spent: 15.751625776290894\n",
      "----------------------------\n",
      "Train set: Epoch 5: Loss: 99.05938720703125%, RankIC: 1.5145502256651162%\n",
      "Test set: IC: 0.24829593996541316%), CumRet:8.228654405121537%, error number:1\n",
      "Time spent: 15.597271203994751\n",
      "----------------------------\n",
      "Train set: Epoch 6: Loss: 99.0433120727539%, RankIC: 1.6110575651333585%\n",
      "Test set: IC: 0.28202508577747437%), CumRet:8.612720263322268%, error number:1\n",
      "Time spent: 15.70417308807373\n",
      "----------------------------\n",
      "Train set: Epoch 7: Loss: 99.02838134765625%, RankIC: 1.7049107579585672%\n",
      "Test set: IC: 0.31195528224770164%), CumRet:8.802660737382755%, error number:1\n",
      "Time spent: 15.740525960922241\n",
      "----------------------------\n",
      "Train set: Epoch 8: Loss: 99.0145263671875%, RankIC: 1.7959863859026413%\n",
      "Test set: IC: 0.3388951819884543%), CumRet:8.766312190973052%, error number:1\n",
      "Time spent: 16.200806140899658\n",
      "----------------------------\n",
      "Train set: Epoch 9: Loss: 99.0013656616211%, RankIC: 1.8842498037761866%\n",
      "Test set: IC: 0.3641910878327523%), CumRet:8.745248376331126%, error number:1\n",
      "Time spent: 16.163732767105103\n",
      "----------------------------\n",
      "Train set: Epoch 10: Loss: 98.9889144897461%, RankIC: 1.9697213212322162%\n",
      "Test set: IC: 0.3880700531238164%), CumRet:8.765581500585432%, error number:1\n",
      "Time spent: 15.979736328125\n",
      "----------------------------\n",
      "Train set: Epoch 11: Loss: 98.97703552246094%, RankIC: 2.0528678637349493%\n",
      "Test set: IC: 0.4116223991849558%), CumRet:8.752665963609285%, error number:1\n",
      "Time spent: 16.067453861236572\n",
      "----------------------------\n",
      "Train set: Epoch 12: Loss: 98.96565246582031%, RankIC: 2.1339128454142875%\n",
      "Test set: IC: 0.43448900133506113%), CumRet:8.804161611812614%, error number:1\n",
      "Time spent: 16.18978524208069\n",
      "----------------------------\n",
      "Train set: Epoch 13: Loss: 98.95482635498047%, RankIC: 2.212843901039501%\n",
      "Test set: IC: 0.4566673436877767%), CumRet:9.001787913761001%, error number:1\n",
      "Time spent: 16.132435083389282\n",
      "----------------------------\n",
      "Train set: Epoch 14: Loss: 98.9444580078125%, RankIC: 2.2896780093180538%\n",
      "Test set: IC: 0.47803911562906837%), CumRet:9.142710366859744%, error number:1\n",
      "Time spent: 15.935999393463135\n",
      "----------------------------\n",
      "Train set: Epoch 15: Loss: 98.9344711303711%, RankIC: 2.36466540662671%\n",
      "Test set: IC: 0.49865743500207493%), CumRet:9.276085697407877%, error number:1\n",
      "Time spent: 16.070348501205444\n",
      "----------------------------\n",
      "Train set: Epoch 16: Loss: 98.92491149902344%, RankIC: 2.43778468136565%\n",
      "Test set: IC: 0.519000387021005%), CumRet:9.479943977548286%, error number:1\n",
      "Time spent: 15.829442739486694\n",
      "----------------------------\n",
      "Train set: Epoch 17: Loss: 98.91580200195312%, RankIC: 2.5090198155392742%\n",
      "Test set: IC: 0.5393196015066237%), CumRet:9.5597194937713%, error number:1\n",
      "Time spent: 15.996517658233643\n",
      "----------------------------\n",
      "Train set: Epoch 18: Loss: 98.90686798095703%, RankIC: 2.578511746199807%\n",
      "Test set: IC: 0.5588284524369512%), CumRet:9.55882971802828%, error number:1\n",
      "Time spent: 16.049221754074097\n",
      "----------------------------\n",
      "Train set: Epoch 19: Loss: 98.89830780029297%, RankIC: 2.646278808811914%\n",
      "Test set: IC: 0.5781645840745108%), CumRet:9.327554167930268%, error number:1\n",
      "Time spent: 16.077577590942383\n",
      "----------------------------\n",
      "Train set: Epoch 20: Loss: 98.8902359008789%, RankIC: 2.712475451358121%\n",
      "Test set: IC: 0.5972442499038515%), CumRet:9.022971702140614%, error number:1\n",
      "Time spent: 15.83806324005127\n",
      "----------------------------\n",
      "Train set: Epoch 21: Loss: 98.88211822509766%, RankIC: 2.777166522043512%\n",
      "Test set: IC: 0.615992043912261%), CumRet:8.600923554437964%, error number:1\n",
      "Time spent: 15.782846450805664\n",
      "----------------------------\n",
      "Train set: Epoch 22: Loss: 98.87451934814453%, RankIC: 2.840450464037346%\n",
      "Test set: IC: 0.6347349455948452%), CumRet:8.130905105477778%, error number:1\n",
      "Time spent: 15.385395050048828\n",
      "----------------------------\n",
      "Train set: Epoch 23: Loss: 98.86705017089844%, RankIC: 2.902440064368057%\n",
      "Test set: IC: 0.6529151900108343%), CumRet:7.824753223828479%, error number:1\n",
      "Time spent: 15.45209527015686\n",
      "----------------------------\n",
      "Train set: Epoch 24: Loss: 98.8598403930664%, RankIC: 2.963182639732611%\n",
      "Test set: IC: 0.6709995582045454%), CumRet:7.5463130305284%, error number:1\n",
      "Time spent: 15.350858688354492\n",
      "----------------------------\n",
      "Train set: Epoch 25: Loss: 98.8529052734375%, RankIC: 3.0227835992458525%\n",
      "Test set: IC: 0.6889546934629033%), CumRet:7.239175714160797%, error number:1\n",
      "Time spent: 15.683452367782593\n",
      "----------------------------\n",
      "Train set: Epoch 26: Loss: 98.84610748291016%, RankIC: 3.0811853381758856%\n",
      "Test set: IC: 0.7065950207100804%), CumRet:6.904153291809003%, error number:1\n",
      "Time spent: 15.48053503036499\n",
      "----------------------------\n",
      "Train set: Epoch 27: Loss: 98.8395767211914%, RankIC: 3.1383564524899605%\n",
      "Test set: IC: 0.7238047262219491%), CumRet:6.53180152347449%, error number:1\n",
      "Time spent: 15.526408672332764\n",
      "----------------------------\n",
      "Train set: Epoch 28: Loss: 98.83311462402344%, RankIC: 3.194457211540143%\n",
      "Test set: IC: 0.7407469109338604%), CumRet:6.233480435031648%, error number:1\n",
      "Time spent: 15.534140586853027\n",
      "----------------------------\n",
      "Train set: Epoch 29: Loss: 98.8268051147461%, RankIC: 3.24941905180586%\n",
      "Test set: IC: 0.7574596348653961%), CumRet:5.948480043725284%, error number:1\n",
      "Time spent: 15.565619468688965\n",
      "----------------------------\n",
      "Train set: Epoch 30: Loss: 98.82070922851562%, RankIC: 3.303220412057786%\n",
      "Test set: IC: 0.7739849578101828%), CumRet:5.79425082722496%, error number:1\n",
      "Time spent: 15.22082233428955\n",
      "----------------------------\n",
      "Train set: Epoch 31: Loss: 98.81473541259766%, RankIC: 3.355976230009181%\n",
      "Test set: IC: 0.7902885160754791%), CumRet:5.623474087214211%, error number:1\n",
      "Time spent: 15.560998439788818\n",
      "----------------------------\n",
      "Train set: Epoch 32: Loss: 98.80909729003906%, RankIC: 3.4077672077865837%\n",
      "Test set: IC: 0.8064066639606935%), CumRet:5.378108667627806%, error number:1\n",
      "Time spent: 15.571089506149292\n",
      "----------------------------\n",
      "Train set: Epoch 33: Loss: 98.8033676147461%, RankIC: 3.4585983379453373%\n",
      "Test set: IC: 0.8224419917247986%), CumRet:5.026317853732063%, error number:1\n",
      "Time spent: 15.323440790176392\n",
      "----------------------------\n",
      "Train set: Epoch 34: Loss: 98.79791259765625%, RankIC: 3.508558379066018%\n",
      "Test set: IC: 0.838325697238223%), CumRet:4.80682026617967%, error number:1\n",
      "Time spent: 15.215230703353882\n",
      "----------------------------\n",
      "Train set: Epoch 35: Loss: 98.79254150390625%, RankIC: 3.55760710289415%\n",
      "Test set: IC: 0.8540507025119828%), CumRet:4.661780328682744%, error number:1\n",
      "Time spent: 15.633753776550293\n",
      "----------------------------\n",
      "Train set: Epoch 36: Loss: 98.78723907470703%, RankIC: 3.6058534477495754%\n",
      "Test set: IC: 0.8696206308559926%), CumRet:4.498586480606959%, error number:1\n",
      "Time spent: 15.476797580718994\n",
      "----------------------------\n",
      "Train set: Epoch 37: Loss: 98.78211975097656%, RankIC: 3.653206171485342%\n",
      "Test set: IC: 0.8850128822989906%), CumRet:4.372437259909589%, error number:1\n",
      "Time spent: 15.40505838394165\n",
      "----------------------------\n",
      "Train set: Epoch 38: Loss: 98.77698516845703%, RankIC: 3.699794802712115%\n",
      "Test set: IC: 0.9002006323645012%), CumRet:4.1131884340724785%, error number:1\n",
      "Time spent: 15.557817459106445\n",
      "----------------------------\n",
      "Train set: Epoch 39: Loss: 98.77215576171875%, RankIC: 3.745633353887802%\n",
      "Test set: IC: 0.9151357692273123%), CumRet:3.878976188689092%, error number:1\n",
      "Time spent: 15.60019040107727\n",
      "----------------------------\n",
      "Train set: Epoch 40: Loss: 98.76732635498047%, RankIC: 3.790766297104961%\n",
      "Test set: IC: 0.9297605567109034%), CumRet:3.62654824916438%, error number:1\n",
      "Time spent: 15.60429310798645\n",
      "----------------------------\n",
      "Train set: Epoch 41: Loss: 98.7625503540039%, RankIC: 3.83520510900233%\n",
      "Test set: IC: 0.9437875805341809%), CumRet:3.466210881594307%, error number:1\n",
      "Time spent: 15.315117359161377\n",
      "----------------------------\n",
      "Train set: Epoch 42: Loss: 98.75785827636719%, RankIC: 3.878959398039098%\n",
      "Test set: IC: 0.9579435538521509%), CumRet:3.3535388307398257%, error number:1\n",
      "Time spent: 15.38660454750061\n",
      "----------------------------\n",
      "Train set: Epoch 43: Loss: 98.75332641601562%, RankIC: 3.9220315597131385%\n",
      "Test set: IC: 0.9721398366654668%), CumRet:3.2821141755053542%, error number:1\n",
      "Time spent: 15.440751075744629\n",
      "----------------------------\n",
      "Train set: Epoch 44: Loss: 98.74884796142578%, RankIC: 3.964466515949625%\n",
      "Test set: IC: 0.9860724182664701%), CumRet:3.23295923676171%, error number:1\n",
      "Time spent: 15.510324478149414\n",
      "----------------------------\n",
      "Train set: Epoch 45: Loss: 98.74446105957031%, RankIC: 4.006204782183255%\n",
      "Test set: IC: 0.9995302122389116%), CumRet:3.1712378543386244%, error number:1\n",
      "Time spent: 15.895793914794922\n",
      "----------------------------\n",
      "Train set: Epoch 46: Loss: 98.74018096923828%, RankIC: 4.047302497909296%\n",
      "Test set: IC: 1.01295536770665%), CumRet:3.267256306306102%, error number:1\n",
      "Time spent: 15.910188913345337\n",
      "----------------------------\n",
      "Train set: Epoch 47: Loss: 98.73579406738281%, RankIC: 4.087856088981739%\n",
      "Test set: IC: 1.0263064382650209%), CumRet:3.175943238999023%, error number:1\n",
      "Time spent: 15.469957113265991\n",
      "----------------------------\n",
      "Train set: Epoch 48: Loss: 98.73176574707031%, RankIC: 4.127794364570217%\n",
      "Test set: IC: 1.0394303899421582%), CumRet:3.241139110294484%, error number:1\n",
      "Time spent: 15.448093175888062\n",
      "----------------------------\n",
      "Train set: Epoch 49: Loss: 98.7275390625%, RankIC: 4.167112991110914%\n",
      "Test set: IC: 1.0521423053468049%), CumRet:3.2640160650128065%, error number:1\n",
      "Time spent: 15.389156341552734\n"
     ]
    }
   ],
   "source": [
    "trail_num = 3\n",
    "learning_rate = 0.0001\n",
    "model_mlp = MLP().to(device)\n",
    "cost = nn.MSELoss().to(device)\n",
    "optimizer = torch.optim.SGD(model_mlp.parameters(), lr=learning_rate)\n",
    "training_log = trainMLP(model=model_mlp, train_loader=train_dataloader, valid_dataloader=valid_dataloader, cost=cost, optimizer=optimizer,\n",
    "         epoch=50)\n",
    "torch.save(model_mlp.state_dict(), f\"./model_save/baseline_MLP_10epoch_train{trail_num}.pkl\")"
   ],
   "metadata": {
    "collapsed": false,
    "pycharm": {
     "name": "#%%\n"
    }
   }
  },
  {
   "cell_type": "code",
   "execution_count": 18,
   "outputs": [
    {
     "data": {
      "text/plain": "<Figure size 432x288 with 1 Axes>",
      "image/png": "[encoded data removed]"
     },
     "metadata": {
      "needs_background": "light"
     },
     "output_type": "display_data"
    }
   ],
   "source": [
    "df_plot = pd.DataFrame(training_log, columns=[\"Train loss\",\"Train RankIC\", \"Valid IC\", \"Valid CumRet\"])\n",
    "plt.xlabel(\"Epoch\")\n",
    "plt.ylabel(\"IC/RankIC\")\n",
    "plt.plot(range(len(df_plot)),df_plot[\"Train RankIC\"])\n",
    "plt.plot(range(len(df_plot)),df_plot[\"Valid IC\"])\n",
    "plt.legend([\"Train RankIC\",\"Valid IC\"])\n",
    "plt.show()"
   ],
   "metadata": {
    "collapsed": false,
    "pycharm": {
     "name": "#%%\n"
    }
   }
  },
  {
   "cell_type": "markdown",
   "source": [
    "OptMLP model (batch size = 128, learning rate = 0.001)"
   ],
   "metadata": {
    "collapsed": false,
    "pycharm": {
     "name": "#%% md\n"
    }
   }
  },
  {
   "cell_type": "code",
   "execution_count": 19,
   "outputs": [],
   "source": [
    "class NeuralNetwork(nn.Module):\n",
    "    def __init__(self):\n",
    "        super(NeuralNetwork, self).__init__()\n",
    "        self.linear_relu_stack = nn.Sequential(\n",
    "            nn.Linear(153, 128),\n",
    "            nn.ReLU(),\n",
    "            nn.Linear(128, 128),\n",
    "            nn.ReLU(),\n",
    "            nn.Linear(128, 1),\n",
    "        )\n",
    "\n",
    "    def forward(self, x):\n",
    "        # Pridiction model\n",
    "        x.requires_grad = False\n",
    "\n",
    "        logits = self.linear_relu_stack(x).requires_grad_()\n",
    "        # Decision model\n",
    "\n",
    "        covs = torch.cov(x)\n",
    "        covs.requires_grad = False\n",
    "        # 优化风险厌恶系数\n",
    "        lamd = torch.ones(1).requires_grad_()\n",
    "\n",
    "        if logits.isnan().sum()>0:\n",
    "            logits = torch.where(torch.isnan(logits), torch.full_like(logits, 0), logits)\n",
    "        if covs.isnan().sum()>0:\n",
    "            covs = torch.where(torch.isnan(covs), torch.full_like(covs, 100), covs)\n",
    "        try:\n",
    "            w_tmp, _ = trading_policy(torch.squeeze(logits), covs.to(device),(lamd * 0.5).to(device),\n",
    "                                solver_args={\"solve_method\": \"SCS\" , \"n_jobs_forward\": 1})\n",
    "        except:\n",
    "            print(logits.isnan().sum())\n",
    "            print(covs)\n",
    "            pass\n",
    "\n",
    "        return w_tmp,logits"
   ],
   "metadata": {
    "collapsed": false,
    "pycharm": {
     "name": "#%%\n"
    }
   }
  },
  {
   "cell_type": "code",
   "execution_count": 20,
   "outputs": [],
   "source": [
    "def train(model, train_loader, valid_dataloader, cost,optimizer, epoch, seed=0):\n",
    "    torch.manual_seed(seed)\n",
    "    model.train()\n",
    "    training_log = []\n",
    "    for e in range(epoch):\n",
    "        start = time.time()\n",
    "        running_loss=0\n",
    "        correct = 0\n",
    "        for data, target in train_loader:\n",
    "            data = data.view(data.shape[0], -1)\n",
    "            optimizer.zero_grad()\n",
    "            pred,ret = model(data)\n",
    "            loss = -pred.dot(torch.squeeze(target)) + cost(target,ret)\n",
    "            running_loss+=loss\n",
    "            loss.backward()\n",
    "            optimizer.step()\n",
    "            correct += pearsonr(ret.T, target.T).item() # IC\n",
    "        print('----------------------------')\n",
    "        print(f\"Train set: Epoch {e}: Loss: {100*running_loss/len(train_loader)}%, RankIC: {100*(correct/len(train_loader))}%\")\n",
    "        # validation\n",
    "        _,_, IC, CumRet = test(model=model,test_loader=valid_dataloader)\n",
    "        end = time.time()\n",
    "        print(\"Time spent:\",end-start)\n",
    "        training_log.append([100*running_loss/len(train_loader),100*(correct/len(train_loader)),IC,CumRet])\n",
    "    return training_log\n",
    "\n",
    "def test(model, test_loader):\n",
    "    model.eval()\n",
    "    correct = 0\n",
    "    cummmret = 0\n",
    "    rets = []\n",
    "    error_num = 0\n",
    "    with torch.no_grad():\n",
    "        for data, target in test_loader:\n",
    "            try:\n",
    "                data = data.view(data.shape[0], -1)\n",
    "                output, ret = model(data)\n",
    "                pred = pearsonr(ret.T, target.T).item() # IC\n",
    "                cumret = output.dot(torch.squeeze(target)).item()\n",
    "                rets.append(cumret)\n",
    "                cummmret += cumret\n",
    "                correct += pred\n",
    "            except:\n",
    "                error_num+=1\n",
    "                pass\n",
    "    IC = 100*(correct/len(test_loader))\n",
    "    CumRet = 100*252*sum(rets)/len(rets)\n",
    "    print(f'Test set: IC: {100*(correct/len(test_loader))}%), CumRet:{100*252*sum(rets)/len(rets)}%,error number:{error_num}')\n",
    "    return rets,output, IC, CumRet"
   ],
   "metadata": {
    "collapsed": false,
    "pycharm": {
     "name": "#%%\n"
    }
   }
  },
  {
   "cell_type": "code",
   "execution_count": 21,
   "outputs": [
    {
     "name": "stdout",
     "output_type": "stream",
     "text": [
      "----------------------------\n",
      "Train set: Epoch 0: Loss: 98.42457580566406%, RankIC: 0.7028652029118903%\n",
      "Test set: IC: 2.199743605417969%), CumRet:11.212150777624231%,error number:0\n",
      "Time spent: 155.25230383872986\n",
      "----------------------------\n",
      "Train set: Epoch 1: Loss: 91.81369018554688%, RankIC: 1.7826141595189717%\n"
     ]
    },
    {
     "name": "stderr",
     "output_type": "stream",
     "text": [
      "/home/jianming/anaconda3/envs/env_qlib3.7/lib/python3.7/site-packages/diffcp/cone_program.py:296: UserWarning: Solved/Inaccurate.\n",
      "  warnings.warn(\"Solved/Inaccurate.\")\n"
     ]
    },
    {
     "name": "stdout",
     "output_type": "stream",
     "text": [
      "Test set: IC: 2.4475402873059346%), CumRet:20.806053866930995%,error number:0\n",
      "Time spent: 170.03593158721924\n",
      "----------------------------\n",
      "Train set: Epoch 2: Loss: 87.19697570800781%, RankIC: 2.124428830450616%\n",
      "Test set: IC: 2.46537100307116%), CumRet:23.31872762126962%,error number:0\n",
      "Time spent: 157.02126550674438\n",
      "----------------------------\n",
      "Train set: Epoch 3: Loss: 83.1046371459961%, RankIC: 2.3915710113072275%\n",
      "Test set: IC: 2.6410996438796897%), CumRet:20.298790920733914%,error number:0\n",
      "Time spent: 154.46606850624084\n",
      "----------------------------\n",
      "Train set: Epoch 4: Loss: 80.60157012939453%, RankIC: 2.6556693900986024%\n",
      "Test set: IC: 2.8752704426010625%), CumRet:24.397755542266935%,error number:0\n",
      "Time spent: 167.14574480056763\n",
      "----------------------------\n",
      "Train set: Epoch 5: Loss: 78.36936950683594%, RankIC: 2.8633192860699666%\n",
      "Test set: IC: 2.9513367252562674%), CumRet:25.541944952417385%,error number:0\n",
      "Time spent: 158.93020844459534\n",
      "----------------------------\n",
      "Train set: Epoch 6: Loss: 76.34455108642578%, RankIC: 3.137425753124907%\n",
      "Test set: IC: 2.8891077510654326%), CumRet:26.594298431770337%,error number:0\n",
      "Time spent: 167.69972252845764\n",
      "----------------------------\n",
      "Train set: Epoch 7: Loss: 74.29901123046875%, RankIC: 3.289126290335662%\n",
      "Test set: IC: 2.7439960337293012%), CumRet:26.09673851076813%,error number:0\n",
      "Time spent: 187.4260151386261\n",
      "----------------------------\n",
      "Train set: Epoch 8: Loss: 72.29007720947266%, RankIC: 3.432301795488006%\n",
      "Test set: IC: 2.868892914562043%), CumRet:25.560163603807347%,error number:0\n",
      "Time spent: 167.62512397766113\n",
      "----------------------------\n",
      "Train set: Epoch 9: Loss: 70.70552825927734%, RankIC: 3.586643556952111%\n",
      "Test set: IC: 2.9028455282571213%), CumRet:24.87996998999172%,error number:0\n",
      "Time spent: 191.44163393974304\n"
     ]
    }
   ],
   "source": [
    "learning_rate = 0.0001\n",
    "trail_num = 2\n",
    "cost = nn.MSELoss().to(device)\n",
    "model = NeuralNetwork().to(device)\n",
    "optimizer = torch.optim.SGD(model.parameters(), lr=learning_rate)\n",
    "OptMLP = train(model=model,train_loader=train_dataloader,valid_dataloader=valid_dataloader,cost = cost,optimizer=optimizer,epoch=10)\n",
    "torch.save(model.state_dict(), f\"./model_save/End2EndMLPrisk_10epoch_train{trail_num}.pkl\")"
   ],
   "metadata": {
    "collapsed": false,
    "pycharm": {
     "name": "#%%\n"
    }
   }
  },
  {
   "cell_type": "code",
   "execution_count": 22,
   "outputs": [
    {
     "name": "stdout",
     "output_type": "stream",
     "text": [
      "[[tensor(98.4246, device='cuda:0', grad_fn=<DivBackward0>), 0.7028652029118903, 2.199743605417969, 11.212150777624231], [tensor(91.8137, device='cuda:0', grad_fn=<DivBackward0>), 1.7826141595189717, 2.4475402873059346, 20.806053866930995], [tensor(87.1970, device='cuda:0', grad_fn=<DivBackward0>), 2.124428830450616, 2.46537100307116, 23.31872762126962], [tensor(83.1046, device='cuda:0', grad_fn=<DivBackward0>), 2.3915710113072275, 2.6410996438796897, 20.298790920733914], [tensor(80.6016, device='cuda:0', grad_fn=<DivBackward0>), 2.6556693900986024, 2.8752704426010625, 24.397755542266935], [tensor(78.3694, device='cuda:0', grad_fn=<DivBackward0>), 2.8633192860699666, 2.9513367252562674, 25.541944952417385], [tensor(76.3446, device='cuda:0', grad_fn=<DivBackward0>), 3.137425753124907, 2.8891077510654326, 26.594298431770337], [tensor(74.2990, device='cuda:0', grad_fn=<DivBackward0>), 3.289126290335662, 2.7439960337293012, 26.09673851076813], [tensor(72.2901, device='cuda:0', grad_fn=<DivBackward0>), 3.432301795488006, 2.868892914562043, 25.560163603807347], [tensor(70.7055, device='cuda:0', grad_fn=<DivBackward0>), 3.586643556952111, 2.9028455282571213, 24.87996998999172]]\n"
     ]
    },
    {
     "data": {
      "text/plain": "<Figure size 432x288 with 1 Axes>",
      "image/png": "[encoded data removed]"
     },
     "metadata": {
      "needs_background": "light"
     },
     "output_type": "display_data"
    }
   ],
   "source": [
    "df_plot2 = pd.DataFrame(OptMLP, columns=[\"Train loss\",\"Train RankIC\", \"Valid IC\", \"Valid CumRet\"])\n",
    "print(OptMLP)\n",
    "plt.xlabel(\"Epoch\")\n",
    "plt.ylabel(\"IC/RankIC\")\n",
    "plt.plot(range(len(df_plot2)),df_plot2[\"Train RankIC\"])\n",
    "plt.plot(range(len(df_plot2)),df_plot2[\"Valid IC\"])\n",
    "plt.legend([\"Train RankIC\",\"Valid IC\"])\n",
    "plt.show()"
   ],
   "metadata": {
    "collapsed": false,
    "pycharm": {
     "name": "#%%\n"
    }
   }
  },
  {
   "cell_type": "markdown",
   "source": [
    "Prediction of 3 models"
   ],
   "metadata": {
    "collapsed": false,
    "pycharm": {
     "name": "#%% md\n"
    }
   }
  },
  {
   "cell_type": "code",
   "execution_count": 25,
   "outputs": [],
   "source": [
    "def predict_weight(model, test_loader):\n",
    "    model.eval()\n",
    "    outputs = []\n",
    "    with torch.no_grad():\n",
    "        for data, target in test_loader:\n",
    "\n",
    "            data = data.view(data.shape[0], -1)\n",
    "            output, _ = model(data)\n",
    "            temp_tensor = output.cpu()\n",
    "            outputs.append(temp_tensor.numpy())\n",
    "    return np.ravel(outputs)\n",
    "def predict_weight_linear(model, test_loader):\n",
    "    return model.predict(test_loader)\n",
    "def predict_weight_mlp(model, test_loader):\n",
    "    model.eval()\n",
    "    outputs = []\n",
    "    with torch.no_grad():\n",
    "        for data, target in test_loader:\n",
    "\n",
    "            data = data.view(data.shape[0], -1)\n",
    "            output = model(data)\n",
    "            temp_tensor = output.cpu()\n",
    "            outputs.append(temp_tensor.numpy())\n",
    "    return np.ravel(outputs)"
   ],
   "metadata": {
    "collapsed": false,
    "pycharm": {
     "name": "#%%\n"
    }
   }
  },
  {
   "cell_type": "code",
   "execution_count": 33,
   "outputs": [],
   "source": [
    "X_test = df_test[\"feature\"].fillna(0).values\n",
    "X_test[np.isinf(X_test)] = 0\n",
    "rets_linear = predict_weight_linear(model = lr, test_loader = X)\n",
    "rets_mlp = predict_weight_mlp(model=model_mlp, test_loader=test_dataloader)\n",
    "rets_opt = predict_weight(model=model, test_loader=test_dataloader)"
   ],
   "metadata": {
    "collapsed": false,
    "pycharm": {
     "name": "#%%\n"
    }
   }
  },
  {
   "cell_type": "markdown",
   "source": [
    "Backtest preparation"
   ],
   "metadata": {
    "collapsed": false,
    "pycharm": {
     "name": "#%% md\n"
    }
   }
  },
  {
   "cell_type": "code",
   "execution_count": 41,
   "outputs": [],
   "source": [
    "def onenorm(df):\n",
    "    df = df - df.min()\n",
    "    return df/ df.sum()\n",
    "def transfrom_df(df,df_test):\n",
    "    df = df[:76765] # Droped some data\n",
    "    dd = df_test.iloc[:len(df),:]['feature']\n",
    "    dd['score'] = df\n",
    "    weight = dd['score'].iloc[:len(df)]\n",
    "    return weight.groupby('datetime').apply(onenorm)"
   ],
   "metadata": {
    "collapsed": false,
    "pycharm": {
     "name": "#%%\n"
    }
   }
  },
  {
   "cell_type": "markdown",
   "source": [
    "Override generate_target_weight_position() method"
   ],
   "metadata": {
    "collapsed": false,
    "pycharm": {
     "name": "#%% md\n"
    }
   }
  },
  {
   "cell_type": "code",
   "execution_count": 38,
   "outputs": [],
   "source": [
    "from qlib.contrib.strategy import WeightStrategyBase\n",
    "\n",
    "class Predweight(WeightStrategyBase):\n",
    "    def __init__(\n",
    "        self,\n",
    "        **kwargs,\n",
    "    ):\n",
    "        super().__init__(**kwargs)\n",
    "\n",
    "    def generate_target_weight_position(self, score, current, trade_start_time, trade_end_time):\n",
    "\n",
    "        target_weight_position = {stock: weight for stock, weight in zip(score.index.values, score.values) if weight > 0}\n",
    "        # output dict\n",
    "        return target_weight_position"
   ],
   "metadata": {
    "collapsed": false,
    "pycharm": {
     "name": "#%%\n"
    }
   }
  },
  {
   "cell_type": "code",
   "execution_count": 43,
   "outputs": [],
   "source": [
    "weight_linear = transfrom_df(rets_linear,df_test)\n",
    "weight_mlp = transfrom_df(rets_mlp,df_test)\n",
    "weight_opt = transfrom_df(rets_opt,df_test)"
   ],
   "metadata": {
    "collapsed": false,
    "pycharm": {
     "name": "#%%\n"
    }
   }
  },
  {
   "cell_type": "markdown",
   "source": [
    "Look at weights"
   ],
   "metadata": {
    "collapsed": false,
    "pycharm": {
     "name": "#%% md\n"
    }
   }
  },
  {
   "cell_type": "code",
   "execution_count": 44,
   "outputs": [
    {
     "data": {
      "text/plain": "datetime    instrument\n2017-01-03  SH600000      0.008884\n            SH600010      0.003977\n            SH600015      0.013271\n            SH600016      0.007417\n            SH600018      0.002549\n                            ...   \n2020-06-01  SZ002594      0.009984\n            SZ002736      0.011756\n            SZ300015      0.011394\n            SZ300059      0.005205\n            SZ300498      0.014061\nName: score, Length: 76765, dtype: float32"
     },
     "execution_count": 44,
     "metadata": {},
     "output_type": "execute_result"
    }
   ],
   "source": [
    "weight_linear"
   ],
   "metadata": {
    "collapsed": false,
    "pycharm": {
     "name": "#%%\n"
    }
   }
  },
  {
   "cell_type": "markdown",
   "source": [
    "Apply qlib backtest program"
   ],
   "metadata": {
    "collapsed": false,
    "pycharm": {
     "name": "#%% md\n"
    }
   }
  },
  {
   "cell_type": "markdown",
   "source": [
    "1.Linear backtest"
   ],
   "metadata": {
    "collapsed": false,
    "pycharm": {
     "name": "#%% md\n"
    }
   }
  },
  {
   "cell_type": "code",
   "execution_count": 46,
   "outputs": [
    {
     "name": "stderr",
     "output_type": "stream",
     "text": [
      "[20997:MainThread](2022-08-22 16:29:21,687) WARNING - qlib.BaseExecutor - [executor.py:127] - `common_infra` is not set for <qlib.backtest.executor.SimulatorExecutor object at 0x7f4edd3e51d0>\n",
      "[20997:MainThread](2022-08-22 16:29:21,706) INFO - qlib.backtest caller - [__init__.py:94] - Create new exchange\n",
      "[20997:MainThread](2022-08-22 16:30:32,985) WARNING - qlib.online operator - [exchange.py:216] - factor.day.bin file not exists or factor contains `nan`. Order using adjusted_price.\n",
      "[20997:MainThread](2022-08-22 16:30:32,987) WARNING - qlib.online operator - [exchange.py:218] - trade unit 100 is not supported in adjusted_price mode.\n"
     ]
    },
    {
     "data": {
      "text/plain": "backtest loop:   0%|          | 0/829 [00:00<?, ?it/s]",
      "application/vnd.jupyter.widget-view+json": {
       "version_major": 2,
       "version_minor": 0,
       "model_id": "fea3704469884e78a4494da709623a50"
      }
     },
     "metadata": {},
     "output_type": "display_data"
    },
    {
     "name": "stderr",
     "output_type": "stream",
     "text": [
      "/home/jianming/anaconda3/envs/env_qlib3.7/lib/python3.7/site-packages/qlib/utils/index_data.py:480: RuntimeWarning: Mean of empty slice\n",
      "  return np.nanmean(self.data)\n",
      "/home/jianming/anaconda3/envs/env_qlib3.7/lib/python3.7/site-packages/qlib/utils/index_data.py:272: DeprecationWarning: `np.bool` is a deprecated alias for the builtin `bool`. To silence this warning, use `bool` by itself. Doing this will not modify any behavior and is safe. If you specifically wanted the numpy scalar type, use `np.bool_` here.\n",
      "Deprecated in NumPy 1.20; for more details and guidance: https://numpy.org/devdocs/release/1.20.0-notes.html#deprecations\n",
      "  if _indexing.dtype != np.bool:\n"
     ]
    },
    {
     "name": "stdout",
     "output_type": "stream",
     "text": [
      "'The following are analysis results of benchmark return(1day).'\n",
      "                       risk\n",
      "mean               0.000383\n",
      "std                0.012031\n",
      "annualized_return  0.091168\n",
      "information_ratio  0.491206\n",
      "max_drawdown      -0.347247\n",
      "                       risk\n",
      "mean              -0.000208\n",
      "std                0.003113\n",
      "annualized_return -0.049584\n",
      "information_ratio -1.032555\n",
      "max_drawdown      -0.172530\n"
     ]
    }
   ],
   "source": [
    "from pprint import pprint\n",
    "from qlib.utils.time import Freq\n",
    "import pandas as pd\n",
    "from qlib.backtest import backtest, executor\n",
    "from qlib.contrib.evaluate import risk_analysis\n",
    "from qlib.utils import flatten_dict\n",
    "\n",
    "STRATEGY_CONFIG = {\n",
    "    \"signal\": weight_linear,\n",
    "}\n",
    "EXECUTOR_CONFIG = {\n",
    "    \"time_per_step\": \"day\",\n",
    "    \"generate_portfolio_metrics\": True,\n",
    "}\n",
    "FREQ = \"day\"\n",
    "backtest_config = {\n",
    "    \"start_time\": \"2017-01-01\",\n",
    "    \"end_time\": \"2020-06-01\",\n",
    "    \"account\": 100000000,\n",
    "    \"benchmark\": benchmark,\n",
    "    \"exchange_kwargs\": {\n",
    "        \"freq\": FREQ,\n",
    "        \"limit_threshold\": 0.095,\n",
    "        \"deal_price\": \"close\",\n",
    "        \"open_cost\": 0.0005,\n",
    "        \"close_cost\": 0.0015,\n",
    "        \"min_cost\": 5,\n",
    "    },\n",
    "}\n",
    "strategy_obj = Predweight(**STRATEGY_CONFIG)\n",
    "executor_obj = executor.SimulatorExecutor(**EXECUTOR_CONFIG)\n",
    "\n",
    "portfolio_metric_dict, indicator_dict = backtest(executor=executor_obj,strategy=strategy_obj,**backtest_config)\n",
    "analysis_freq = \"{0}{1}\".format(*Freq.parse(FREQ))\n",
    "\n",
    "\n",
    "report_normal_linear, positions_normal = portfolio_metric_dict.get(analysis_freq)\n",
    "\n",
    "# analysis\n",
    "analysis = dict()\n",
    "analysis[\"excess_return_without_cost\"] = risk_analysis(\n",
    "    report_normal_linear[\"return\"] - report_normal_linear[\"bench\"], freq=analysis_freq\n",
    ")\n",
    "\n",
    "analysis_df = pd.concat(analysis)  # type: pd.DataFrame\n",
    "# log metrics\n",
    "analysis_dict = flatten_dict(analysis_df[\"risk\"].unstack().T.to_dict())\n",
    "# print out results\n",
    "pprint(f\"The following are analysis results of benchmark return({analysis_freq}).\")\n",
    "pprint(risk_analysis(report_normal_linear[\"bench\"], freq=analysis_freq))\n",
    "pprint(analysis[\"excess_return_without_cost\"])"
   ],
   "metadata": {
    "collapsed": false,
    "pycharm": {
     "name": "#%%\n"
    }
   }
  },
  {
   "cell_type": "markdown",
   "source": [
    "2.Opt backtest"
   ],
   "metadata": {
    "collapsed": false,
    "pycharm": {
     "name": "#%% md\n"
    }
   }
  },
  {
   "cell_type": "code",
   "execution_count": 47,
   "outputs": [
    {
     "name": "stderr",
     "output_type": "stream",
     "text": [
      "[20997:MainThread](2022-08-22 16:31:55,646) WARNING - qlib.BaseExecutor - [executor.py:127] - `common_infra` is not set for <qlib.backtest.executor.SimulatorExecutor object at 0x7f4e803bb550>\n",
      "[20997:MainThread](2022-08-22 16:31:55,662) INFO - qlib.backtest caller - [__init__.py:94] - Create new exchange\n",
      "[20997:MainThread](2022-08-22 16:32:54,773) WARNING - qlib.online operator - [exchange.py:216] - factor.day.bin file not exists or factor contains `nan`. Order using adjusted_price.\n",
      "[20997:MainThread](2022-08-22 16:32:54,775) WARNING - qlib.online operator - [exchange.py:218] - trade unit 100 is not supported in adjusted_price mode.\n"
     ]
    },
    {
     "data": {
      "text/plain": "backtest loop:   0%|          | 0/829 [00:00<?, ?it/s]",
      "application/vnd.jupyter.widget-view+json": {
       "version_major": 2,
       "version_minor": 0,
       "model_id": "013fd6def87f4c73b12f13bd72646978"
      }
     },
     "metadata": {},
     "output_type": "display_data"
    },
    {
     "name": "stderr",
     "output_type": "stream",
     "text": [
      "/home/jianming/anaconda3/envs/env_qlib3.7/lib/python3.7/site-packages/qlib/utils/index_data.py:480: RuntimeWarning: Mean of empty slice\n",
      "  return np.nanmean(self.data)\n",
      "/home/jianming/anaconda3/envs/env_qlib3.7/lib/python3.7/site-packages/qlib/utils/index_data.py:272: DeprecationWarning: `np.bool` is a deprecated alias for the builtin `bool`. To silence this warning, use `bool` by itself. Doing this will not modify any behavior and is safe. If you specifically wanted the numpy scalar type, use `np.bool_` here.\n",
      "Deprecated in NumPy 1.20; for more details and guidance: https://numpy.org/devdocs/release/1.20.0-notes.html#deprecations\n",
      "  if _indexing.dtype != np.bool:\n"
     ]
    },
    {
     "name": "stdout",
     "output_type": "stream",
     "text": [
      "'The following are analysis results of benchmark return(1day).'\n",
      "                       risk\n",
      "mean               0.000383\n",
      "std                0.012031\n",
      "annualized_return  0.091168\n",
      "information_ratio  0.491206\n",
      "max_drawdown      -0.347247\n",
      "'The following are analysis results of the excess return without cost(1day).'\n",
      "                       risk\n",
      "mean               0.000021\n",
      "std                0.006127\n",
      "annualized_return  0.005014\n",
      "information_ratio  0.053040\n",
      "max_drawdown      -0.126793\n"
     ]
    }
   ],
   "source": [
    "STRATEGY_CONFIG = {\n",
    "    \"signal\": weight_opt,\n",
    "}\n",
    "\n",
    "strategy_obj = Predweight(**STRATEGY_CONFIG)\n",
    "executor_obj = executor.SimulatorExecutor(**EXECUTOR_CONFIG)\n",
    "\n",
    "portfolio_metric_dict, indicator_dict = backtest(executor=executor_obj,strategy=strategy_obj,**backtest_config)\n",
    "analysis_freq = \"{0}{1}\".format(*Freq.parse(FREQ))\n",
    "\n",
    "\n",
    "report_normal_opt, positions_normal = portfolio_metric_dict.get(analysis_freq)\n",
    "\n",
    "# analysis\n",
    "analysis = dict()\n",
    "analysis[\"excess_return_without_cost\"] = risk_analysis(\n",
    "    report_normal_opt[\"return\"] - report_normal_opt[\"bench\"], freq=analysis_freq\n",
    ")\n",
    "\n",
    "analysis_df = pd.concat(analysis)  # type: pd.DataFrame\n",
    "# log metrics\n",
    "analysis_dict = flatten_dict(analysis_df[\"risk\"].unstack().T.to_dict())\n",
    "# print out results\n",
    "pprint(f\"The following are analysis results of benchmark return({analysis_freq}).\")\n",
    "pprint(risk_analysis(report_normal_opt[\"bench\"], freq=analysis_freq))\n",
    "pprint(f\"The following are analysis results of the excess return without cost({analysis_freq}).\")\n",
    "pprint(analysis[\"excess_return_without_cost\"])"
   ],
   "metadata": {
    "collapsed": false,
    "pycharm": {
     "name": "#%%\n"
    }
   }
  },
  {
   "cell_type": "markdown",
   "source": [
    "3.Mlp backtest"
   ],
   "metadata": {
    "collapsed": false,
    "pycharm": {
     "name": "#%% md\n"
    }
   }
  },
  {
   "cell_type": "code",
   "execution_count": 49,
   "outputs": [
    {
     "name": "stderr",
     "output_type": "stream",
     "text": [
      "[20997:MainThread](2022-08-22 16:37:15,736) WARNING - qlib.BaseExecutor - [executor.py:127] - `common_infra` is not set for <qlib.backtest.executor.SimulatorExecutor object at 0x7f4e62a67c10>\n",
      "[20997:MainThread](2022-08-22 16:37:15,767) INFO - qlib.backtest caller - [__init__.py:94] - Create new exchange\n",
      "[20997:MainThread](2022-08-22 16:38:11,763) WARNING - qlib.online operator - [exchange.py:216] - factor.day.bin file not exists or factor contains `nan`. Order using adjusted_price.\n",
      "[20997:MainThread](2022-08-22 16:38:11,766) WARNING - qlib.online operator - [exchange.py:218] - trade unit 100 is not supported in adjusted_price mode.\n"
     ]
    },
    {
     "data": {
      "text/plain": "backtest loop:   0%|          | 0/829 [00:00<?, ?it/s]",
      "application/vnd.jupyter.widget-view+json": {
       "version_major": 2,
       "version_minor": 0,
       "model_id": "5a3edff1ae7e45eb874848d60c592122"
      }
     },
     "metadata": {},
     "output_type": "display_data"
    },
    {
     "name": "stderr",
     "output_type": "stream",
     "text": [
      "/home/jianming/anaconda3/envs/env_qlib3.7/lib/python3.7/site-packages/qlib/utils/index_data.py:480: RuntimeWarning: Mean of empty slice\n",
      "  return np.nanmean(self.data)\n",
      "/home/jianming/anaconda3/envs/env_qlib3.7/lib/python3.7/site-packages/qlib/utils/index_data.py:272: DeprecationWarning: `np.bool` is a deprecated alias for the builtin `bool`. To silence this warning, use `bool` by itself. Doing this will not modify any behavior and is safe. If you specifically wanted the numpy scalar type, use `np.bool_` here.\n",
      "Deprecated in NumPy 1.20; for more details and guidance: https://numpy.org/devdocs/release/1.20.0-notes.html#deprecations\n",
      "  if _indexing.dtype != np.bool:\n"
     ]
    },
    {
     "name": "stdout",
     "output_type": "stream",
     "text": [
      "'The following are analysis results of benchmark return(1day).'\n",
      "                       risk\n",
      "mean               0.000383\n",
      "std                0.012031\n",
      "annualized_return  0.091168\n",
      "information_ratio  0.491206\n",
      "max_drawdown      -0.347247\n",
      "'The following are analysis results of the excess return without cost(1day).'\n",
      "                       risk\n",
      "mean              -0.000078\n",
      "std                0.003158\n",
      "annualized_return -0.018501\n",
      "information_ratio -0.379776\n",
      "max_drawdown      -0.100170\n"
     ]
    }
   ],
   "source": [
    "STRATEGY_CONFIG = {\n",
    "    \"signal\": weight_mlp,\n",
    "}\n",
    "\n",
    "strategy_obj = Predweight(**STRATEGY_CONFIG)\n",
    "executor_obj = executor.SimulatorExecutor(**EXECUTOR_CONFIG)\n",
    "\n",
    "portfolio_metric_dict, indicator_dict = backtest(executor=executor_obj,strategy=strategy_obj,**backtest_config)\n",
    "analysis_freq = \"{0}{1}\".format(*Freq.parse(FREQ))\n",
    "\n",
    "\n",
    "report_normal_mlp, positions_normal = portfolio_metric_dict.get(analysis_freq)\n",
    "\n",
    "# analysis\n",
    "analysis = dict()\n",
    "analysis[\"excess_return_without_cost\"] = risk_analysis(\n",
    "    report_normal_mlp[\"return\"] - report_normal_mlp[\"bench\"], freq=analysis_freq\n",
    ")\n",
    "\n",
    "analysis_df = pd.concat(analysis)  # type: pd.DataFrame\n",
    "# log metrics\n",
    "analysis_dict = flatten_dict(analysis_df[\"risk\"].unstack().T.to_dict())\n",
    "# print out results\n",
    "pprint(f\"The following are analysis results of benchmark return({analysis_freq}).\")\n",
    "pprint(risk_analysis(report_normal_mlp[\"bench\"], freq=analysis_freq))\n",
    "pprint(f\"The following are analysis results of the excess return without cost({analysis_freq}).\")\n",
    "pprint(analysis[\"excess_return_without_cost\"])"
   ],
   "metadata": {
    "collapsed": false,
    "pycharm": {
     "name": "#%%\n"
    }
   }
  },
  {
   "cell_type": "markdown",
   "source": [
    "Compare three models"
   ],
   "metadata": {
    "collapsed": false,
    "pycharm": {
     "name": "#%% md\n"
    }
   }
  },
  {
   "cell_type": "code",
   "execution_count": 62,
   "outputs": [
    {
     "data": {
      "text/plain": "<AxesSubplot:xlabel='datetime'>"
     },
     "execution_count": 62,
     "metadata": {},
     "output_type": "execute_result"
    },
    {
     "data": {
      "text/plain": "<Figure size 432x288 with 1 Axes>",
      "image/png": "[encoded data removed]"
     },
     "metadata": {
      "needs_background": "light"
     },
     "output_type": "display_data"
    }
   ],
   "source": [
    "df_plot3 = pd.DataFrame([report_normal_opt[\"return\"], report_normal_mlp[\"return\"], report_normal_linear[\"return\"]])\n",
    "df_plot3 = df_plot3.T\n",
    "df_plot3.columns = [\"opt\",\"mlp\",\"linear\"]\n",
    "df_plot3.cumsum(axis=0).plot()"
   ],
   "metadata": {
    "collapsed": false,
    "pycharm": {
     "name": "#%%\n"
    }
   }
  },
  {
   "cell_type": "code",
   "execution_count": 55,
   "outputs": [
    {
     "data": {
      "text/plain": "<Figure size 432x288 with 1 Axes>",
      "image/png": "[encoded data removed]"
     },
     "metadata": {
      "needs_background": "light"
     },
     "output_type": "display_data"
    }
   ],
   "source": [
    "plt.plot(range(len(report_normal_opt[\"return\"])),report_normal_opt[\"return\"].cumsum())\n",
    "\n",
    "plt.show()"
   ],
   "metadata": {
    "collapsed": false,
    "pycharm": {
     "name": "#%%\n"
    }
   }
  },
  {
   "cell_type": "code",
   "execution_count": 54,
   "outputs": [
    {
     "ename": "AttributeError",
     "evalue": "'Series' object has no attribute 'to_series'",
     "output_type": "error",
     "traceback": [
      "\u001B[0;31m---------------------------------------------------------------------------\u001B[0m",
      "\u001B[0;31mAttributeError\u001B[0m                            Traceback (most recent call last)",
      "\u001B[0;32m/tmp/ipykernel_20997/3923844220.py\u001B[0m in \u001B[0;36m<module>\u001B[0;34m\u001B[0m\n\u001B[0;32m----> 1\u001B[0;31m \u001B[0mreport_normal_opt\u001B[0m\u001B[0;34m[\u001B[0m\u001B[0;34m\"return\"\u001B[0m\u001B[0;34m]\u001B[0m\u001B[0;34m.\u001B[0m\u001B[0mto_series\u001B[0m\u001B[0;34m(\u001B[0m\u001B[0;34m)\u001B[0m\u001B[0;34m\u001B[0m\u001B[0;34m\u001B[0m\u001B[0m\n\u001B[0m",
      "\u001B[0;32m~/anaconda3/envs/env_qlib3.7/lib/python3.7/site-packages/pandas/core/generic.py\u001B[0m in \u001B[0;36m__getattr__\u001B[0;34m(self, name)\u001B[0m\n\u001B[1;32m   5485\u001B[0m         ):\n\u001B[1;32m   5486\u001B[0m             \u001B[0;32mreturn\u001B[0m \u001B[0mself\u001B[0m\u001B[0;34m[\u001B[0m\u001B[0mname\u001B[0m\u001B[0;34m]\u001B[0m\u001B[0;34m\u001B[0m\u001B[0;34m\u001B[0m\u001B[0m\n\u001B[0;32m-> 5487\u001B[0;31m         \u001B[0;32mreturn\u001B[0m \u001B[0mobject\u001B[0m\u001B[0;34m.\u001B[0m\u001B[0m__getattribute__\u001B[0m\u001B[0;34m(\u001B[0m\u001B[0mself\u001B[0m\u001B[0;34m,\u001B[0m \u001B[0mname\u001B[0m\u001B[0;34m)\u001B[0m\u001B[0;34m\u001B[0m\u001B[0;34m\u001B[0m\u001B[0m\n\u001B[0m\u001B[1;32m   5488\u001B[0m \u001B[0;34m\u001B[0m\u001B[0m\n\u001B[1;32m   5489\u001B[0m     \u001B[0;32mdef\u001B[0m \u001B[0m__setattr__\u001B[0m\u001B[0;34m(\u001B[0m\u001B[0mself\u001B[0m\u001B[0;34m,\u001B[0m \u001B[0mname\u001B[0m\u001B[0;34m:\u001B[0m \u001B[0mstr\u001B[0m\u001B[0;34m,\u001B[0m \u001B[0mvalue\u001B[0m\u001B[0;34m)\u001B[0m \u001B[0;34m->\u001B[0m \u001B[0;32mNone\u001B[0m\u001B[0;34m:\u001B[0m\u001B[0;34m\u001B[0m\u001B[0;34m\u001B[0m\u001B[0m\n",
      "\u001B[0;31mAttributeError\u001B[0m: 'Series' object has no attribute 'to_series'"
     ]
    }
   ],
   "source": [],
   "metadata": {
    "collapsed": false,
    "pycharm": {
     "name": "#%%\n"
    }
   }
  },
  {
   "cell_type": "code",
   "execution_count": null,
   "outputs": [],
   "source": [],
   "metadata": {
    "collapsed": false,
    "pycharm": {
     "name": "#%%\n"
    }
   }
  }
 ],
 "metadata": {
  "kernelspec": {
   "display_name": "Python 3",
   "language": "python",
   "name": "python3"
  },
  "language_info": {
   "codemirror_mode": {
    "name": "ipython",
    "version": 2
   },
   "file_extension": ".py",
   "mimetype": "text/x-python",
   "name": "python",
   "nbconvert_exporter": "python",
   "pygments_lexer": "ipython2",
   "version": "2.7.6"
  }
 },
 "nbformat": 4,
 "nbformat_minor": 0
}